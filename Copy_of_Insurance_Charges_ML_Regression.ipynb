{
  "nbformat": 4,
  "nbformat_minor": 0,
  "metadata": {
    "colab": {
      "name": "Copy of Insurance Charges ML Regression",
      "provenance": []
    },
    "kernelspec": {
      "name": "python3",
      "display_name": "Python 3"
    }
  },
  "cells": [
    {
      "cell_type": "markdown",
      "metadata": {
        "id": "yXXy-LAizLrS",
        "colab_type": "text"
      },
      "source": [
        "  ** Applying Multiple Linear Regression to estimate the Medical Inurance Charges of an individual based on various factors provided in the Dataset.** \n",
        "\n",
        "---\n",
        "\n",
        "\n",
        "\n",
        "---\n",
        "\n"
      ]
    },
    {
      "cell_type": "markdown",
      "metadata": {
        "id": "hPzKdJlmzmV5",
        "colab_type": "text"
      },
      "source": [
        "*Importing Libraries*\n",
        "\n",
        "---\n",
        "\n"
      ]
    },
    {
      "cell_type": "code",
      "metadata": {
        "id": "O8YtOr2MpOTg",
        "colab_type": "code",
        "colab": {}
      },
      "source": [
        "import numpy as np\n",
        "import matplotlib.pyplot as plt\n",
        "import pandas as pd"
      ],
      "execution_count": 0,
      "outputs": []
    },
    {
      "cell_type": "markdown",
      "metadata": {
        "id": "JC1TbierzqJf",
        "colab_type": "text"
      },
      "source": [
        "*Importing the Dataset*\n",
        "\n",
        "---\n",
        "\n"
      ]
    },
    {
      "cell_type": "code",
      "metadata": {
        "id": "zQGNTdLRtJFK",
        "colab_type": "code",
        "colab": {}
      },
      "source": [
        "dataset=pd.read_csv(\"insurance.csv\")\n",
        "X = dataset.iloc[:, :-1].values\n",
        "Y = dataset.iloc[:, -1:].values"
      ],
      "execution_count": 0,
      "outputs": []
    },
    {
      "cell_type": "markdown",
      "metadata": {
        "id": "QxzLTk1HztVm",
        "colab_type": "text"
      },
      "source": [
        "*Printing the Dataset Values*\n",
        "\n",
        "---\n",
        "\n"
      ]
    },
    {
      "cell_type": "code",
      "metadata": {
        "id": "P8a1DkyJtdy0",
        "colab_type": "code",
        "colab": {}
      },
      "source": [
        "print(dataset.head())"
      ],
      "execution_count": 0,
      "outputs": []
    },
    {
      "cell_type": "code",
      "metadata": {
        "id": "xLt-Aveez1W5",
        "colab_type": "code",
        "colab": {}
      },
      "source": [
        "print(X)"
      ],
      "execution_count": 0,
      "outputs": []
    },
    {
      "cell_type": "code",
      "metadata": {
        "id": "HFVdd9eC23HR",
        "colab_type": "code",
        "colab": {}
      },
      "source": [
        "print(Y)"
      ],
      "execution_count": 0,
      "outputs": []
    },
    {
      "cell_type": "markdown",
      "metadata": {
        "id": "LF515whfz6Ee",
        "colab_type": "text"
      },
      "source": [
        "* Encoding Catagorical Data*\n",
        "\n",
        "---\n",
        "\n"
      ]
    },
    {
      "cell_type": "markdown",
      "metadata": {
        "id": "_VE2j2z60AGY",
        "colab_type": "text"
      },
      "source": [
        "*Encoding Independent Factors - Gender,Smoker,Region *"
      ]
    },
    {
      "cell_type": "code",
      "metadata": {
        "id": "RK1uKQy28_U7",
        "colab_type": "code",
        "colab": {}
      },
      "source": [
        "from sklearn.compose import ColumnTransformer\n",
        "from sklearn.preprocessing import LabelEncoder\n",
        "le=LabelEncoder()\n",
        "X[:,1]=(le.fit_transform(X[:,1]))\n",
        "X[:,4]=(le.fit_transform(X[:,4]))\n",
        "X[:,5]=(le.fit_transform(X[:,5]))\n"
      ],
      "execution_count": 0,
      "outputs": []
    },
    {
      "cell_type": "markdown",
      "metadata": {
        "id": "K_AuqqGOC5vh",
        "colab_type": "text"
      },
      "source": [
        "*Printing the Encoded Values from Dataset*"
      ]
    },
    {
      "cell_type": "code",
      "metadata": {
        "id": "xRKwTapR9_ao",
        "colab_type": "code",
        "colab": {}
      },
      "source": [
        "print(X)"
      ],
      "execution_count": 0,
      "outputs": []
    },
    {
      "cell_type": "markdown",
      "metadata": {
        "id": "bspSlIHZ0TMl",
        "colab_type": "text"
      },
      "source": [
        "*Splitting the Dataset into Training Set and Test Set *\n",
        "\n",
        "---\n",
        "\n",
        "\n",
        "\n",
        "\n"
      ]
    },
    {
      "cell_type": "code",
      "metadata": {
        "id": "NSj0M2Mc25Kd",
        "colab_type": "code",
        "colab": {}
      },
      "source": [
        "from sklearn.model_selection import train_test_split\n",
        "X_train,X_test,Y_train,Y_test = train_test_split(X,Y,test_size=0.3)"
      ],
      "execution_count": 0,
      "outputs": []
    },
    {
      "cell_type": "markdown",
      "metadata": {
        "id": "0v7FRyZM0YY4",
        "colab_type": "text"
      },
      "source": [
        "*Printing the Training Set Values*\n",
        "\n",
        "---\n",
        "\n"
      ]
    },
    {
      "cell_type": "code",
      "metadata": {
        "id": "HUK7ctAv5JlI",
        "colab_type": "code",
        "colab": {}
      },
      "source": [
        "print(X_train)"
      ],
      "execution_count": 0,
      "outputs": []
    },
    {
      "cell_type": "code",
      "metadata": {
        "id": "J4rUYnmp5Q1o",
        "colab_type": "code",
        "colab": {}
      },
      "source": [
        "print(X_test)"
      ],
      "execution_count": 0,
      "outputs": []
    },
    {
      "cell_type": "markdown",
      "metadata": {
        "id": "DCHu6_ub0e4X",
        "colab_type": "text"
      },
      "source": [
        "*Printing the Test Values*\n",
        "\n",
        "---\n",
        "\n"
      ]
    },
    {
      "cell_type": "code",
      "metadata": {
        "id": "1UwwV9wF5WQ4",
        "colab_type": "code",
        "colab": {}
      },
      "source": [
        "print(Y_train)"
      ],
      "execution_count": 0,
      "outputs": []
    },
    {
      "cell_type": "code",
      "metadata": {
        "id": "5NuWx5jZ5aJY",
        "colab_type": "code",
        "colab": {}
      },
      "source": [
        "print(Y_test)"
      ],
      "execution_count": 0,
      "outputs": []
    },
    {
      "cell_type": "markdown",
      "metadata": {
        "id": "TMFTiZRa4BmH",
        "colab_type": "text"
      },
      "source": [
        "*Training Multiple Linear Regression On Training Set*\n",
        "\n",
        "---\n",
        "\n"
      ]
    },
    {
      "cell_type": "code",
      "metadata": {
        "id": "-sOQlESy5ehh",
        "colab_type": "code",
        "colab": {}
      },
      "source": [
        "from sklearn.linear_model import LinearRegression\n",
        "regressor = LinearRegression()\n",
        "regressor.fit(X_train,Y_train)"
      ],
      "execution_count": 0,
      "outputs": []
    },
    {
      "cell_type": "markdown",
      "metadata": {
        "id": "2QgI-_h402ri",
        "colab_type": "text"
      },
      "source": [
        "*Predicting the Values of the Test Set*\n",
        "\n",
        "---\n",
        "\n"
      ]
    },
    {
      "cell_type": "code",
      "metadata": {
        "id": "keg2lBiv5xp_",
        "colab_type": "code",
        "colab": {}
      },
      "source": [
        "Y_pred=regressor.predict(X_test)"
      ],
      "execution_count": 0,
      "outputs": []
    },
    {
      "cell_type": "markdown",
      "metadata": {
        "id": "6JTddSCw07Iu",
        "colab_type": "text"
      },
      "source": [
        "*Printing the Predicted Values*\n",
        "\n",
        "---\n",
        "\n"
      ]
    },
    {
      "cell_type": "code",
      "metadata": {
        "id": "BFPVZ_MO6NyC",
        "colab_type": "code",
        "colab": {}
      },
      "source": [
        "np.set_printoptions(precision=2)\n",
        "print(Y_pred)"
      ],
      "execution_count": 0,
      "outputs": []
    },
    {
      "cell_type": "markdown",
      "metadata": {
        "id": "FkKqmNdw0_Ul",
        "colab_type": "text"
      },
      "source": [
        "*Concatenating the Predicted and Sample values to compare.*\n",
        "\n",
        "---\n",
        "\n"
      ]
    },
    {
      "cell_type": "code",
      "metadata": {
        "id": "3vjWrIaz6c9D",
        "colab_type": "code",
        "colab": {}
      },
      "source": [
        "print(np.concatenate((Y_pred,Y_test),1))"
      ],
      "execution_count": 0,
      "outputs": []
    },
    {
      "cell_type": "markdown",
      "metadata": {
        "id": "CjAyWPSQ4OzC",
        "colab_type": "text"
      },
      "source": [
        "*Predicting a single value through inputs *\n",
        "\n",
        "---\n",
        "\n"
      ]
    },
    {
      "cell_type": "code",
      "metadata": {
        "id": "naSW4BFG8k07",
        "colab_type": "code",
        "outputId": "87e2c68d-25c6-4554-c3ce-fea0ece2dc09",
        "colab": {
          "base_uri": "https://localhost:8080/",
          "height": 35
        }
      },
      "source": [
        "regressor.predict([[20,1,26.2,2,1,0]])"
      ],
      "execution_count": 0,
      "outputs": [
        {
          "output_type": "execute_result",
          "data": {
            "text/plain": [
              "array([[27454.3]])"
            ]
          },
          "metadata": {
            "tags": []
          },
          "execution_count": 29
        }
      ]
    },
    {
      "cell_type": "markdown",
      "metadata": {
        "id": "7oUCZtPe1Gjv",
        "colab_type": "text"
      },
      "source": [
        "*Obtaining the Final Multiple Regression Eqaution. *\n",
        "\n",
        "---\n",
        "\n"
      ]
    },
    {
      "cell_type": "code",
      "metadata": {
        "id": "uZzSEDXQ8ibv",
        "colab_type": "code",
        "outputId": "b4417c59-5e88-47cd-89c8-f27e6fd9b953",
        "colab": {
          "base_uri": "https://localhost:8080/",
          "height": 52
        }
      },
      "source": [
        "print(regressor.coef_)\n",
        "print(regressor.intercept_)"
      ],
      "execution_count": 0,
      "outputs": [
        {
          "output_type": "stream",
          "text": [
            "[[  247.18   193.89   330.08   555.22 24366.09  -276.12]]\n",
            "[-11807.82]\n"
          ],
          "name": "stdout"
        }
      ]
    },
    {
      "cell_type": "markdown",
      "metadata": {
        "id": "oy_sP3hB1ZaL",
        "colab_type": "text"
      },
      "source": [
        "***The Final Equation Can be Represented as:***\n",
        "\n",
        "---\n",
        "\n",
        "\n",
        "***Charges = 247.18x age + 193.89x Sex + 330.08x bmi + 555.22x children + 24366.09xsmoker - 276.12x region - 11807.82 ***"
      ]
    }
  ]
}